{
 "cells": [
  {
   "cell_type": "markdown",
   "source": [
    "# Example api"
   ],
   "metadata": {
    "collapsed": false
   }
  },
  {
   "cell_type": "code",
   "execution_count": null,
   "outputs": [],
   "source": [
    "from adelecv.api.logs import enable_logs\n",
    "from adelecv.api.data.segmentations import SegmentationDataset\n",
    "from logging import StreamHandler"
   ],
   "metadata": {
    "collapsed": false
   }
  },
  {
   "cell_type": "code",
   "execution_count": null,
   "outputs": [],
   "source": [
    "enable_logs(StreamHandler())"
   ],
   "metadata": {
    "collapsed": false
   }
  },
  {
   "cell_type": "code",
   "execution_count": null,
   "outputs": [],
   "source": [
    "import torch\n",
    "torch.cuda.is_available()"
   ],
   "metadata": {
    "collapsed": false
   }
  },
  {
   "cell_type": "code",
   "execution_count": null,
   "outputs": [],
   "source": [
    "# you can change the path to save logs and weights\n",
    "# from adelecv.api.config import Settings\n",
    "# from pathlib import Path\n",
    "# Settings.update_tmp_path(Path('your_path'))"
   ],
   "metadata": {
    "collapsed": false
   }
  },
  {
   "cell_type": "code",
   "execution_count": null,
   "outputs": [],
   "source": [
    "from adelecv.api.data.segmentations.types import ImageMask"
   ],
   "metadata": {
    "collapsed": false
   }
  },
  {
   "cell_type": "code",
   "execution_count": null,
   "outputs": [],
   "source": [
    "segm_dataset = SegmentationDataset(\n",
    "    r'F:\\dataset\\ph2',\n",
    "    ImageMask,\n",
    "    (256, 256),\n",
    "    (0.7, 0.2, 0.1),\n",
    "    16,\n",
    ")"
   ],
   "metadata": {
    "collapsed": false
   }
  },
  {
   "cell_type": "code",
   "execution_count": null,
   "outputs": [],
   "source": [
    "from adelecv.api.models.segmentations import  get_encoders, get_pretrained_weights, get_models, get_torch_optimizers, get_losses, get_optimize_scores\n",
    "from adelecv.api.optimize.segmentations import get_hp_optimizers\n",
    "# создать отдельный модуль для получения возможных параметров"
   ],
   "metadata": {
    "collapsed": false
   }
  },
  {
   "cell_type": "code",
   "execution_count": null,
   "outputs": [],
   "source": [
    "print('models: ', get_models())\n",
    "print('encoders: ', get_encoders())\n",
    "print('pretrained_weights', get_pretrained_weights())\n",
    "print('optimizers', get_torch_optimizers())\n",
    "print('losses', get_losses())\n",
    "print('hp optimizers', get_hp_optimizers())\n",
    "print('optimize scores', get_optimize_scores())"
   ],
   "metadata": {
    "collapsed": false
   }
  },
  {
   "cell_type": "code",
   "execution_count": null,
   "outputs": [],
   "source": [
    "from adelecv.api.optimize.segmentations import HyperParamsSegmentation\n",
    "from adelecv.api.optimize.segmentations import HPOptimizer"
   ],
   "metadata": {
    "collapsed": false
   }
  },
  {
   "cell_type": "code",
   "execution_count": null,
   "outputs": [],
   "source": [
    "params = HyperParamsSegmentation(\n",
    "    strategy='TPESampler',\n",
    "    architectures=['UnetPlusPlus'],\n",
    "    encoders=['mobilenet_v2'],\n",
    "    pretrained_weights=['imagenet'],\n",
    "    loss_fns=['JaccardLoss'],\n",
    "    optimizers=['AdamW', 'RMSprop'],\n",
    "    epoch_range=(5, 5),\n",
    "    lr_range=(0.001, 0.003),\n",
    "    optimize_score='loss',\n",
    ")"
   ],
   "metadata": {
    "collapsed": false
   }
  },
  {
   "cell_type": "code",
   "execution_count": null,
   "outputs": [],
   "source": [
    "hp_optimizer = HPOptimizer(\n",
    "    hyper_params=params,\n",
    "    num_trials=1,\n",
    "    device='GPU',\n",
    "    dataset=segm_dataset\n",
    ")"
   ],
   "metadata": {
    "collapsed": false
   }
  },
  {
   "cell_type": "code",
   "execution_count": null,
   "outputs": [],
   "source": [
    "from adelecv.api.config import Settings"
   ],
   "metadata": {
    "collapsed": false
   }
  },
  {
   "cell_type": "code",
   "execution_count": null,
   "outputs": [],
   "source": [
    "tensorboard_logs_path = Settings.TENSORBOARD_LOGS_PATH.as_posix()"
   ],
   "metadata": {
    "collapsed": false
   }
  },
  {
   "cell_type": "code",
   "execution_count": null,
   "outputs": [],
   "source": [
    "tensorboard_logs_path"
   ],
   "metadata": {
    "collapsed": false
   }
  },
  {
   "cell_type": "code",
   "execution_count": null,
   "outputs": [],
   "source": [
    "%reload_ext tensorboard"
   ],
   "metadata": {
    "collapsed": false
   }
  },
  {
   "cell_type": "code",
   "execution_count": null,
   "outputs": [],
   "source": [
    "tensorboard_logs_path"
   ],
   "metadata": {
    "collapsed": false
   }
  },
  {
   "cell_type": "code",
   "execution_count": null,
   "outputs": [],
   "source": [
    "tensorboard --logdir $tensorboard_logs_path"
   ],
   "metadata": {
    "collapsed": false
   }
  },
  {
   "cell_type": "code",
   "execution_count": null,
   "outputs": [],
   "source": [
    "hp_optimizer.optimize()"
   ],
   "metadata": {
    "collapsed": false
   }
  },
  {
   "cell_type": "code",
   "execution_count": null,
   "outputs": [],
   "source": [
    "hp_optimizer.stats_models"
   ],
   "metadata": {
    "collapsed": false
   }
  },
  {
   "cell_type": "code",
   "execution_count": null,
   "outputs": [],
   "source": [
    "from adelecv.api.modification_models import ExportWeights"
   ],
   "metadata": {
    "collapsed": false
   }
  },
  {
   "cell_type": "code",
   "execution_count": null,
   "outputs": [],
   "source": [
    "# you can save the selected weights in a zip file (feature for ui)\n",
    "# ExportWeights().create_zip()"
   ],
   "metadata": {
    "collapsed": false
   }
  },
  {
   "cell_type": "code",
   "execution_count": null,
   "outputs": [],
   "source": [
    "import fiftyone as fo"
   ],
   "metadata": {
    "collapsed": false
   }
  },
  {
   "cell_type": "code",
   "execution_count": null,
   "outputs": [],
   "source": [
    "fo.launch_app(segm_dataset.fo_dataset)"
   ],
   "metadata": {
    "collapsed": false
   }
  },
  {
   "cell_type": "code",
   "execution_count": null,
   "outputs": [],
   "source": [],
   "metadata": {
    "collapsed": false
   }
  },
  {
   "cell_type": "code",
   "execution_count": null,
   "outputs": [],
   "source": [],
   "metadata": {
    "collapsed": false
   }
  }
 ],
 "metadata": {
  "kernelspec": {
   "display_name": "Python 3",
   "language": "python",
   "name": "python3"
  },
  "language_info": {
   "codemirror_mode": {
    "name": "ipython",
    "version": 2
   },
   "file_extension": ".py",
   "mimetype": "text/x-python",
   "name": "python",
   "nbconvert_exporter": "python",
   "pygments_lexer": "ipython2",
   "version": "2.7.6"
  }
 },
 "nbformat": 4,
 "nbformat_minor": 0
}
